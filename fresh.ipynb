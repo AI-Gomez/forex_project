{
 "cells": [
  {
   "cell_type": "code",
   "execution_count": 1,
   "metadata": {},
   "outputs": [],
   "source": [
    "import numpy as np\n",
    "import pandas as pd\n",
    "import matplotlib.pyplot as plt\n",
    "import seaborn as sns\n",
    "import statsmodels.api as sm\n",
    "#plt.style.use('fivethirtyeight')\n",
    "plt.rc('figure', figsize=(13, 7))\n",
    "from statsmodels.tsa.arima_model import ARIMA\n",
    "from fbprophet import Prophet\n",
    "from fbprophet.plot import plot_plotly, plot_components_plotly\n",
    "\n",
    "import warnings\n",
    "warnings.filterwarnings(\"ignore\")\n",
    "warnings.simplefilter(action='ignore', category=FutureWarning)\n",
    "\n",
    "from datetime import datetime\n",
    "from sklearn.metrics import mean_squared_error\n",
    "from math import sqrt\n",
    "import sklearn.preprocessing\n",
    "scaler = sklearn.preprocessing.MinMaxScaler()\n",
    "from scipy import stats\n",
    "\n",
    "from pandas.plotting import register_matplotlib_converters\n",
    "#from statsmodels.tsa.api import Holt\n",
    "\n",
    "#from acquire import get_store_data, opsd_germany_daily\n",
    "#import prepare"
   ]
  },
  {
   "cell_type": "code",
   "execution_count": 2,
   "metadata": {},
   "outputs": [
    {
     "data": {
      "text/html": [
       "<div>\n",
       "<style scoped>\n",
       "    .dataframe tbody tr th:only-of-type {\n",
       "        vertical-align: middle;\n",
       "    }\n",
       "\n",
       "    .dataframe tbody tr th {\n",
       "        vertical-align: top;\n",
       "    }\n",
       "\n",
       "    .dataframe thead th {\n",
       "        text-align: right;\n",
       "    }\n",
       "</style>\n",
       "<table border=\"1\" class=\"dataframe\">\n",
       "  <thead>\n",
       "    <tr style=\"text-align: right;\">\n",
       "      <th></th>\n",
       "      <th>date</th>\n",
       "      <th>value</th>\n",
       "    </tr>\n",
       "  </thead>\n",
       "  <tbody>\n",
       "    <tr>\n",
       "      <th>0</th>\n",
       "      <td>1981-01-02</td>\n",
       "      <td>1.53</td>\n",
       "    </tr>\n",
       "    <tr>\n",
       "      <th>1</th>\n",
       "      <td>1981-01-05</td>\n",
       "      <td>1.54</td>\n",
       "    </tr>\n",
       "    <tr>\n",
       "      <th>2</th>\n",
       "      <td>1981-01-06</td>\n",
       "      <td>1.53</td>\n",
       "    </tr>\n",
       "    <tr>\n",
       "      <th>3</th>\n",
       "      <td>1981-01-07</td>\n",
       "      <td>1.53</td>\n",
       "    </tr>\n",
       "    <tr>\n",
       "      <th>4</th>\n",
       "      <td>1981-01-08</td>\n",
       "      <td>1.53</td>\n",
       "    </tr>\n",
       "  </tbody>\n",
       "</table>\n",
       "</div>"
      ],
      "text/plain": [
       "         date  value\n",
       "0  1981-01-02   1.53\n",
       "1  1981-01-05   1.54\n",
       "2  1981-01-06   1.53\n",
       "3  1981-01-07   1.53\n",
       "4  1981-01-08   1.53"
      ]
     },
     "execution_count": 2,
     "metadata": {},
     "output_type": "execute_result"
    }
   ],
   "source": [
    "cny = pd.read_csv('yuan-usd.csv',sep=',', skipinitialspace=True)\n",
    "cny.head()"
   ]
  },
  {
   "cell_type": "code",
   "execution_count": 3,
   "metadata": {},
   "outputs": [],
   "source": [
    "cny = cny[~(cny['date'] < '2015-12-04')]"
   ]
  },
  {
   "cell_type": "code",
   "execution_count": 4,
   "metadata": {
    "scrolled": true
   },
   "outputs": [
    {
     "data": {
      "text/html": [
       "<div>\n",
       "<style scoped>\n",
       "    .dataframe tbody tr th:only-of-type {\n",
       "        vertical-align: middle;\n",
       "    }\n",
       "\n",
       "    .dataframe tbody tr th {\n",
       "        vertical-align: top;\n",
       "    }\n",
       "\n",
       "    .dataframe thead th {\n",
       "        text-align: right;\n",
       "    }\n",
       "</style>\n",
       "<table border=\"1\" class=\"dataframe\">\n",
       "  <thead>\n",
       "    <tr style=\"text-align: right;\">\n",
       "      <th></th>\n",
       "      <th>date</th>\n",
       "      <th>value</th>\n",
       "    </tr>\n",
       "  </thead>\n",
       "  <tbody>\n",
       "    <tr>\n",
       "      <th>8715</th>\n",
       "      <td>2015-12-04</td>\n",
       "      <td>6.3900</td>\n",
       "    </tr>\n",
       "    <tr>\n",
       "      <th>8716</th>\n",
       "      <td>2015-12-07</td>\n",
       "      <td>6.4100</td>\n",
       "    </tr>\n",
       "    <tr>\n",
       "      <th>8717</th>\n",
       "      <td>2015-12-08</td>\n",
       "      <td>6.4200</td>\n",
       "    </tr>\n",
       "    <tr>\n",
       "      <th>8718</th>\n",
       "      <td>2015-12-09</td>\n",
       "      <td>6.4300</td>\n",
       "    </tr>\n",
       "    <tr>\n",
       "      <th>8719</th>\n",
       "      <td>2015-12-10</td>\n",
       "      <td>6.4400</td>\n",
       "    </tr>\n",
       "    <tr>\n",
       "      <th>...</th>\n",
       "      <td>...</td>\n",
       "      <td>...</td>\n",
       "    </tr>\n",
       "    <tr>\n",
       "      <th>10126</th>\n",
       "      <td>2020-11-30</td>\n",
       "      <td>6.5789</td>\n",
       "    </tr>\n",
       "    <tr>\n",
       "      <th>10127</th>\n",
       "      <td>2020-12-01</td>\n",
       "      <td>6.5723</td>\n",
       "    </tr>\n",
       "    <tr>\n",
       "      <th>10128</th>\n",
       "      <td>2020-12-02</td>\n",
       "      <td>6.5634</td>\n",
       "    </tr>\n",
       "    <tr>\n",
       "      <th>10129</th>\n",
       "      <td>2020-12-03</td>\n",
       "      <td>6.5429</td>\n",
       "    </tr>\n",
       "    <tr>\n",
       "      <th>10130</th>\n",
       "      <td>2020-12-04</td>\n",
       "      <td>6.5316</td>\n",
       "    </tr>\n",
       "  </tbody>\n",
       "</table>\n",
       "<p>1416 rows × 2 columns</p>\n",
       "</div>"
      ],
      "text/plain": [
       "             date   value\n",
       "8715   2015-12-04  6.3900\n",
       "8716   2015-12-07  6.4100\n",
       "8717   2015-12-08  6.4200\n",
       "8718   2015-12-09  6.4300\n",
       "8719   2015-12-10  6.4400\n",
       "...           ...     ...\n",
       "10126  2020-11-30  6.5789\n",
       "10127  2020-12-01  6.5723\n",
       "10128  2020-12-02  6.5634\n",
       "10129  2020-12-03  6.5429\n",
       "10130  2020-12-04  6.5316\n",
       "\n",
       "[1416 rows x 2 columns]"
      ]
     },
     "execution_count": 4,
     "metadata": {},
     "output_type": "execute_result"
    }
   ],
   "source": [
    "cny"
   ]
  },
  {
   "cell_type": "code",
   "execution_count": 27,
   "metadata": {},
   "outputs": [],
   "source": [
    "cny.drop(columns=['date'], inplace=True)"
   ]
  },
  {
   "cell_type": "code",
   "execution_count": 28,
   "metadata": {
    "scrolled": true
   },
   "outputs": [
    {
     "data": {
      "text/html": [
       "<div>\n",
       "<style scoped>\n",
       "    .dataframe tbody tr th:only-of-type {\n",
       "        vertical-align: middle;\n",
       "    }\n",
       "\n",
       "    .dataframe tbody tr th {\n",
       "        vertical-align: top;\n",
       "    }\n",
       "\n",
       "    .dataframe thead th {\n",
       "        text-align: right;\n",
       "    }\n",
       "</style>\n",
       "<table border=\"1\" class=\"dataframe\">\n",
       "  <thead>\n",
       "    <tr style=\"text-align: right;\">\n",
       "      <th></th>\n",
       "      <th>value</th>\n",
       "    </tr>\n",
       "  </thead>\n",
       "  <tbody>\n",
       "    <tr>\n",
       "      <th>8715</th>\n",
       "      <td>6.3900</td>\n",
       "    </tr>\n",
       "    <tr>\n",
       "      <th>8716</th>\n",
       "      <td>6.4100</td>\n",
       "    </tr>\n",
       "    <tr>\n",
       "      <th>8717</th>\n",
       "      <td>6.4200</td>\n",
       "    </tr>\n",
       "    <tr>\n",
       "      <th>8718</th>\n",
       "      <td>6.4300</td>\n",
       "    </tr>\n",
       "    <tr>\n",
       "      <th>8719</th>\n",
       "      <td>6.4400</td>\n",
       "    </tr>\n",
       "    <tr>\n",
       "      <th>...</th>\n",
       "      <td>...</td>\n",
       "    </tr>\n",
       "    <tr>\n",
       "      <th>10126</th>\n",
       "      <td>6.5789</td>\n",
       "    </tr>\n",
       "    <tr>\n",
       "      <th>10127</th>\n",
       "      <td>6.5723</td>\n",
       "    </tr>\n",
       "    <tr>\n",
       "      <th>10128</th>\n",
       "      <td>6.5634</td>\n",
       "    </tr>\n",
       "    <tr>\n",
       "      <th>10129</th>\n",
       "      <td>6.5429</td>\n",
       "    </tr>\n",
       "    <tr>\n",
       "      <th>10130</th>\n",
       "      <td>6.5316</td>\n",
       "    </tr>\n",
       "  </tbody>\n",
       "</table>\n",
       "<p>1416 rows × 1 columns</p>\n",
       "</div>"
      ],
      "text/plain": [
       "        value\n",
       "8715   6.3900\n",
       "8716   6.4100\n",
       "8717   6.4200\n",
       "8718   6.4300\n",
       "8719   6.4400\n",
       "...       ...\n",
       "10126  6.5789\n",
       "10127  6.5723\n",
       "10128  6.5634\n",
       "10129  6.5429\n",
       "10130  6.5316\n",
       "\n",
       "[1416 rows x 1 columns]"
      ]
     },
     "execution_count": 28,
     "metadata": {},
     "output_type": "execute_result"
    }
   ],
   "source": []
  },
  {
   "cell_type": "code",
   "execution_count": 6,
   "metadata": {},
   "outputs": [
    {
     "data": {
      "text/html": [
       "<div>\n",
       "<style scoped>\n",
       "    .dataframe tbody tr th:only-of-type {\n",
       "        vertical-align: middle;\n",
       "    }\n",
       "\n",
       "    .dataframe tbody tr th {\n",
       "        vertical-align: top;\n",
       "    }\n",
       "\n",
       "    .dataframe thead th {\n",
       "        text-align: right;\n",
       "    }\n",
       "</style>\n",
       "<table border=\"1\" class=\"dataframe\">\n",
       "  <thead>\n",
       "    <tr style=\"text-align: right;\">\n",
       "      <th></th>\n",
       "      <th>Date</th>\n",
       "      <th>Open</th>\n",
       "      <th>High</th>\n",
       "      <th>Low</th>\n",
       "      <th>Close</th>\n",
       "      <th>Adj Close</th>\n",
       "      <th>Volume</th>\n",
       "    </tr>\n",
       "  </thead>\n",
       "  <tbody>\n",
       "    <tr>\n",
       "      <th>0</th>\n",
       "      <td>2015-12-04</td>\n",
       "      <td>361.261993</td>\n",
       "      <td>363.515991</td>\n",
       "      <td>355.756989</td>\n",
       "      <td>363.183014</td>\n",
       "      <td>363.183014</td>\n",
       "      <td>35784100</td>\n",
       "    </tr>\n",
       "    <tr>\n",
       "      <th>1</th>\n",
       "      <td>2015-12-05</td>\n",
       "      <td>363.721008</td>\n",
       "      <td>389.785004</td>\n",
       "      <td>363.229004</td>\n",
       "      <td>388.949005</td>\n",
       "      <td>388.949005</td>\n",
       "      <td>66282200</td>\n",
       "    </tr>\n",
       "    <tr>\n",
       "      <th>2</th>\n",
       "      <td>2015-12-06</td>\n",
       "      <td>389.554993</td>\n",
       "      <td>402.808990</td>\n",
       "      <td>387.088989</td>\n",
       "      <td>388.782990</td>\n",
       "      <td>388.782990</td>\n",
       "      <td>77762000</td>\n",
       "    </tr>\n",
       "    <tr>\n",
       "      <th>3</th>\n",
       "      <td>2015-12-07</td>\n",
       "      <td>389.977997</td>\n",
       "      <td>399.968994</td>\n",
       "      <td>385.411011</td>\n",
       "      <td>395.536011</td>\n",
       "      <td>395.536011</td>\n",
       "      <td>63455800</td>\n",
       "    </tr>\n",
       "    <tr>\n",
       "      <th>4</th>\n",
       "      <td>2015-12-08</td>\n",
       "      <td>395.753998</td>\n",
       "      <td>415.562988</td>\n",
       "      <td>389.950012</td>\n",
       "      <td>415.562988</td>\n",
       "      <td>415.562988</td>\n",
       "      <td>57801400</td>\n",
       "    </tr>\n",
       "    <tr>\n",
       "      <th>...</th>\n",
       "      <td>...</td>\n",
       "      <td>...</td>\n",
       "      <td>...</td>\n",
       "      <td>...</td>\n",
       "      <td>...</td>\n",
       "      <td>...</td>\n",
       "      <td>...</td>\n",
       "    </tr>\n",
       "    <tr>\n",
       "      <th>1823</th>\n",
       "      <td>2020-11-30</td>\n",
       "      <td>18178.322266</td>\n",
       "      <td>19749.263672</td>\n",
       "      <td>18178.322266</td>\n",
       "      <td>19625.835938</td>\n",
       "      <td>19625.835938</td>\n",
       "      <td>47728480399</td>\n",
       "    </tr>\n",
       "    <tr>\n",
       "      <th>1824</th>\n",
       "      <td>2020-12-01</td>\n",
       "      <td>19633.769531</td>\n",
       "      <td>19845.974609</td>\n",
       "      <td>18321.921875</td>\n",
       "      <td>18802.998047</td>\n",
       "      <td>18802.998047</td>\n",
       "      <td>49633658712</td>\n",
       "    </tr>\n",
       "    <tr>\n",
       "      <th>1825</th>\n",
       "      <td>2020-12-02</td>\n",
       "      <td>18801.744141</td>\n",
       "      <td>19308.330078</td>\n",
       "      <td>18347.718750</td>\n",
       "      <td>19201.091797</td>\n",
       "      <td>19201.091797</td>\n",
       "      <td>37387697138</td>\n",
       "    </tr>\n",
       "    <tr>\n",
       "      <th>1826</th>\n",
       "      <td>2020-12-03</td>\n",
       "      <td>19205.925781</td>\n",
       "      <td>19566.191406</td>\n",
       "      <td>18925.785156</td>\n",
       "      <td>19445.398438</td>\n",
       "      <td>19445.398438</td>\n",
       "      <td>31930317405</td>\n",
       "    </tr>\n",
       "    <tr>\n",
       "      <th>1827</th>\n",
       "      <td>2020-12-04</td>\n",
       "      <td>19257.582031</td>\n",
       "      <td>19501.390625</td>\n",
       "      <td>18748.742188</td>\n",
       "      <td>19049.886719</td>\n",
       "      <td>19049.886719</td>\n",
       "      <td>31385276416</td>\n",
       "    </tr>\n",
       "  </tbody>\n",
       "</table>\n",
       "<p>1828 rows × 7 columns</p>\n",
       "</div>"
      ],
      "text/plain": [
       "            Date          Open          High           Low         Close  \\\n",
       "0     2015-12-04    361.261993    363.515991    355.756989    363.183014   \n",
       "1     2015-12-05    363.721008    389.785004    363.229004    388.949005   \n",
       "2     2015-12-06    389.554993    402.808990    387.088989    388.782990   \n",
       "3     2015-12-07    389.977997    399.968994    385.411011    395.536011   \n",
       "4     2015-12-08    395.753998    415.562988    389.950012    415.562988   \n",
       "...          ...           ...           ...           ...           ...   \n",
       "1823  2020-11-30  18178.322266  19749.263672  18178.322266  19625.835938   \n",
       "1824  2020-12-01  19633.769531  19845.974609  18321.921875  18802.998047   \n",
       "1825  2020-12-02  18801.744141  19308.330078  18347.718750  19201.091797   \n",
       "1826  2020-12-03  19205.925781  19566.191406  18925.785156  19445.398438   \n",
       "1827  2020-12-04  19257.582031  19501.390625  18748.742188  19049.886719   \n",
       "\n",
       "         Adj Close       Volume  \n",
       "0       363.183014     35784100  \n",
       "1       388.949005     66282200  \n",
       "2       388.782990     77762000  \n",
       "3       395.536011     63455800  \n",
       "4       415.562988     57801400  \n",
       "...            ...          ...  \n",
       "1823  19625.835938  47728480399  \n",
       "1824  18802.998047  49633658712  \n",
       "1825  19201.091797  37387697138  \n",
       "1826  19445.398438  31930317405  \n",
       "1827  19049.886719  31385276416  \n",
       "\n",
       "[1828 rows x 7 columns]"
      ]
     },
     "execution_count": 6,
     "metadata": {},
     "output_type": "execute_result"
    }
   ],
   "source": [
    "btc = pd.read_csv('BTC-USD.csv',sep=',', skipinitialspace=True)\n",
    "btc\n"
   ]
  },
  {
   "cell_type": "code",
   "execution_count": 7,
   "metadata": {},
   "outputs": [],
   "source": [
    "\n",
    "#btc.Date = pd.to_datetime(btc.Date)\n",
    "\n",
    "btc.drop(columns = ['Adj Close',\n",
    "                  'Open',\n",
    "                  'High',\n",
    "                  'Low',\n",
    "                   'Volume'], inplace = True)"
   ]
  },
  {
   "cell_type": "code",
   "execution_count": 8,
   "metadata": {
    "scrolled": false
   },
   "outputs": [
    {
     "data": {
      "text/html": [
       "<div>\n",
       "<style scoped>\n",
       "    .dataframe tbody tr th:only-of-type {\n",
       "        vertical-align: middle;\n",
       "    }\n",
       "\n",
       "    .dataframe tbody tr th {\n",
       "        vertical-align: top;\n",
       "    }\n",
       "\n",
       "    .dataframe thead th {\n",
       "        text-align: right;\n",
       "    }\n",
       "</style>\n",
       "<table border=\"1\" class=\"dataframe\">\n",
       "  <thead>\n",
       "    <tr style=\"text-align: right;\">\n",
       "      <th></th>\n",
       "      <th>Date</th>\n",
       "      <th>Close</th>\n",
       "    </tr>\n",
       "  </thead>\n",
       "  <tbody>\n",
       "    <tr>\n",
       "      <th>0</th>\n",
       "      <td>2015-12-04</td>\n",
       "      <td>363.183014</td>\n",
       "    </tr>\n",
       "    <tr>\n",
       "      <th>1</th>\n",
       "      <td>2015-12-05</td>\n",
       "      <td>388.949005</td>\n",
       "    </tr>\n",
       "    <tr>\n",
       "      <th>2</th>\n",
       "      <td>2015-12-06</td>\n",
       "      <td>388.782990</td>\n",
       "    </tr>\n",
       "    <tr>\n",
       "      <th>3</th>\n",
       "      <td>2015-12-07</td>\n",
       "      <td>395.536011</td>\n",
       "    </tr>\n",
       "    <tr>\n",
       "      <th>4</th>\n",
       "      <td>2015-12-08</td>\n",
       "      <td>415.562988</td>\n",
       "    </tr>\n",
       "    <tr>\n",
       "      <th>...</th>\n",
       "      <td>...</td>\n",
       "      <td>...</td>\n",
       "    </tr>\n",
       "    <tr>\n",
       "      <th>1823</th>\n",
       "      <td>2020-11-30</td>\n",
       "      <td>19625.835938</td>\n",
       "    </tr>\n",
       "    <tr>\n",
       "      <th>1824</th>\n",
       "      <td>2020-12-01</td>\n",
       "      <td>18802.998047</td>\n",
       "    </tr>\n",
       "    <tr>\n",
       "      <th>1825</th>\n",
       "      <td>2020-12-02</td>\n",
       "      <td>19201.091797</td>\n",
       "    </tr>\n",
       "    <tr>\n",
       "      <th>1826</th>\n",
       "      <td>2020-12-03</td>\n",
       "      <td>19445.398438</td>\n",
       "    </tr>\n",
       "    <tr>\n",
       "      <th>1827</th>\n",
       "      <td>2020-12-04</td>\n",
       "      <td>19049.886719</td>\n",
       "    </tr>\n",
       "  </tbody>\n",
       "</table>\n",
       "<p>1828 rows × 2 columns</p>\n",
       "</div>"
      ],
      "text/plain": [
       "            Date         Close\n",
       "0     2015-12-04    363.183014\n",
       "1     2015-12-05    388.949005\n",
       "2     2015-12-06    388.782990\n",
       "3     2015-12-07    395.536011\n",
       "4     2015-12-08    415.562988\n",
       "...          ...           ...\n",
       "1823  2020-11-30  19625.835938\n",
       "1824  2020-12-01  18802.998047\n",
       "1825  2020-12-02  19201.091797\n",
       "1826  2020-12-03  19445.398438\n",
       "1827  2020-12-04  19049.886719\n",
       "\n",
       "[1828 rows x 2 columns]"
      ]
     },
     "execution_count": 8,
     "metadata": {},
     "output_type": "execute_result"
    }
   ],
   "source": [
    "btc"
   ]
  },
  {
   "cell_type": "code",
   "execution_count": 31,
   "metadata": {},
   "outputs": [],
   "source": [
    "btc.drop(columns=['Date'], inplace=True)"
   ]
  },
  {
   "cell_type": "code",
   "execution_count": 18,
   "metadata": {},
   "outputs": [],
   "source": [
    "scaler = sklearn.preprocessing.MinMaxScaler()"
   ]
  },
  {
   "cell_type": "code",
   "execution_count": 21,
   "metadata": {},
   "outputs": [],
   "source": [
    "btc.Date = pd.to_datetime(btc.Date)"
   ]
  },
  {
   "cell_type": "code",
   "execution_count": 32,
   "metadata": {},
   "outputs": [
    {
     "data": {
      "text/plain": [
       "MinMaxScaler(copy=True, feature_range=(0, 1))"
      ]
     },
     "execution_count": 32,
     "metadata": {},
     "output_type": "execute_result"
    }
   ],
   "source": [
    "scaler.fit(btc)"
   ]
  },
  {
   "cell_type": "code",
   "execution_count": 29,
   "metadata": {},
   "outputs": [
    {
     "data": {
      "text/plain": [
       "MinMaxScaler(copy=True, feature_range=(0, 1))"
      ]
     },
     "execution_count": 29,
     "metadata": {},
     "output_type": "execute_result"
    }
   ],
   "source": [
    "scaler.fit(cny)"
   ]
  },
  {
   "cell_type": "code",
   "execution_count": 30,
   "metadata": {},
   "outputs": [],
   "source": [
    "cny_scaled = scaler.transform(cny)"
   ]
  },
  {
   "cell_type": "code",
   "execution_count": 37,
   "metadata": {},
   "outputs": [
    {
     "data": {
      "text/plain": [
       "array([[0.13685592],\n",
       "       [0.15873537],\n",
       "       [0.16967509],\n",
       "       ...,\n",
       "       [0.32655071],\n",
       "       [0.30412428],\n",
       "       [0.29176239]])"
      ]
     },
     "execution_count": 37,
     "metadata": {},
     "output_type": "execute_result"
    }
   ],
   "source": [
    "cny_scaled"
   ]
  },
  {
   "cell_type": "code",
   "execution_count": 33,
   "metadata": {},
   "outputs": [],
   "source": [
    "btc_scaled = scaler.transform(btc)"
   ]
  },
  {
   "cell_type": "code",
   "execution_count": 45,
   "metadata": {},
   "outputs": [],
   "source": [
    "btc_s = pd.DataFrame(btc_scaled)"
   ]
  },
  {
   "cell_type": "code",
   "execution_count": 46,
   "metadata": {},
   "outputs": [],
   "source": [
    "cny_s = pd.DataFrame(cny_scaled)"
   ]
  },
  {
   "cell_type": "code",
   "execution_count": 50,
   "metadata": {},
   "outputs": [
    {
     "name": "stderr",
     "output_type": "stream",
     "text": [
      "No handles with labels found to put in legend.\n"
     ]
    },
    {
     "data": {
      "image/png": "[encoded data removed]",
      "text/plain": [
       "<Figure size 936x504 with 1 Axes>"
      ]
     },
     "metadata": {
      "needs_background": "light"
     },
     "output_type": "display_data"
    }
   ],
   "source": [
    "plt.plot(btc_s)\n",
    "plt.plot(cny_s)\n",
    "plt.legend(loc='best')\n",
    "plt.show()"
   ]
  },
  {
   "cell_type": "code",
   "execution_count": null,
   "metadata": {},
   "outputs": [],
   "source": []
  },
  {
   "cell_type": "code",
   "execution_count": 38,
   "metadata": {},
   "outputs": [
    {
     "ename": "AttributeError",
     "evalue": "'numpy.ndarray' object has no attribute 'plot'",
     "output_type": "error",
     "traceback": [
      "\u001b[0;31m--------------------------------------\u001b[0m",
      "\u001b[0;31mAttributeError\u001b[0mTraceback (most recent call last)",
      "\u001b[0;32m<ipython-input-38-bfd043a0c448>\u001b[0m in \u001b[0;36m<module>\u001b[0;34m\u001b[0m\n\u001b[0;32m----> 1\u001b[0;31m \u001b[0mbtc_scaled\u001b[0m\u001b[0;34m.\u001b[0m\u001b[0mplot\u001b[0m\u001b[0;34m.\u001b[0m\u001b[0mline\u001b[0m\u001b[0;34m(\u001b[0m\u001b[0;34m)\u001b[0m\u001b[0;34m\u001b[0m\u001b[0;34m\u001b[0m\u001b[0m\n\u001b[0m\u001b[1;32m      2\u001b[0m \u001b[0mcny_scaled\u001b[0m\u001b[0;34m.\u001b[0m\u001b[0mplot\u001b[0m\u001b[0;34m.\u001b[0m\u001b[0mline\u001b[0m\u001b[0;34m(\u001b[0m\u001b[0;34m)\u001b[0m\u001b[0;34m\u001b[0m\u001b[0;34m\u001b[0m\u001b[0m\n",
      "\u001b[0;31mAttributeError\u001b[0m: 'numpy.ndarray' object has no attribute 'plot'"
     ]
    }
   ],
   "source": [
    "btc_scaled.plot.line()\n",
    "cny_scaled.plot.line()"
   ]
  },
  {
   "cell_type": "code",
   "execution_count": null,
   "metadata": {},
   "outputs": [],
   "source": []
  },
  {
   "cell_type": "code",
   "execution_count": 17,
   "metadata": {},
   "outputs": [
    {
     "data": {
      "text/plain": [
       "<matplotlib.axes._subplots.AxesSubplot at 0x7fbf1c7a8c90>"
      ]
     },
     "execution_count": 17,
     "metadata": {},
     "output_type": "execute_result"
    },
    {
     "data": {
      "image/png": "[encoded data removed]",
      "text/plain": [
       "<Figure size 936x504 with 1 Axes>"
      ]
     },
     "metadata": {
      "needs_background": "light"
     },
     "output_type": "display_data"
    }
   ],
   "source": []
  },
  {
   "cell_type": "code",
   "execution_count": null,
   "metadata": {},
   "outputs": [],
   "source": []
  },
  {
   "cell_type": "code",
   "execution_count": null,
   "metadata": {},
   "outputs": [],
   "source": []
  }
 ],
 "metadata": {
  "kernelspec": {
   "display_name": "Python 3",
   "language": "python",
   "name": "python3"
  },
  "language_info": {
   "codemirror_mode": {
    "name": "ipython",
    "version": 3
   },
   "file_extension": ".py",
   "mimetype": "text/x-python",
   "name": "python",
   "nbconvert_exporter": "python",
   "pygments_lexer": "ipython3",
   "version": "3.7.6"
  }
 },
 "nbformat": 4,
 "nbformat_minor": 4
}
