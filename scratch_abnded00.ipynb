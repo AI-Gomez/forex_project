{
 "cells": [
  {
   "cell_type": "code",
   "execution_count": 1,
   "metadata": {},
   "outputs": [],
   "source": [
    "import numpy as np\n",
    "import pandas as pd\n",
    "import matplotlib.pyplot as plt\n",
    "import seaborn as sns\n",
    "import statsmodels.api as sm\n",
    "#plt.style.use('fivethirtyeight')\n",
    "plt.rc('figure', figsize=(13, 7))\n",
    "\n",
    "import warnings\n",
    "warnings.filterwarnings(\"ignore\")\n",
    "\n",
    "from datetime import datetime\n",
    "#from sklearn.metrics import mean_squared_error\n",
    "from math import sqrt\n",
    "\n",
    "from pandas.plotting import register_matplotlib_converters\n",
    "#from statsmodels.tsa.api import Holt\n",
    "\n",
    "#from acquire import get_store_data, opsd_germany_daily\n",
    "#import prepare\n",
    "import pytz\n",
    "from pytz import timezone"
   ]
  },
  {
   "cell_type": "markdown",
   "metadata": {},
   "source": [
    "### Bringing in the CSV"
   ]
  },
  {
   "cell_type": "code",
   "execution_count": 2,
   "metadata": {
    "scrolled": true
   },
   "outputs": [
    {
     "data": {
      "text/html": [
       "<div>\n",
       "<style scoped>\n",
       "    .dataframe tbody tr th:only-of-type {\n",
       "        vertical-align: middle;\n",
       "    }\n",
       "\n",
       "    .dataframe tbody tr th {\n",
       "        vertical-align: top;\n",
       "    }\n",
       "\n",
       "    .dataframe thead th {\n",
       "        text-align: right;\n",
       "    }\n",
       "</style>\n",
       "<table border=\"1\" class=\"dataframe\">\n",
       "  <thead>\n",
       "    <tr style=\"text-align: right;\">\n",
       "      <th></th>\n",
       "      <th>Date_Time</th>\n",
       "      <th>BO</th>\n",
       "      <th>BH</th>\n",
       "      <th>BL</th>\n",
       "      <th>BC</th>\n",
       "      <th>BCh</th>\n",
       "      <th>AO</th>\n",
       "      <th>AH</th>\n",
       "      <th>AL</th>\n",
       "      <th>AC</th>\n",
       "      <th>ACh</th>\n",
       "    </tr>\n",
       "  </thead>\n",
       "  <tbody>\n",
       "    <tr>\n",
       "      <th>0</th>\n",
       "      <td>2005-01-02 18:29:00</td>\n",
       "      <td>1.3555</td>\n",
       "      <td>1.3555</td>\n",
       "      <td>1.3555</td>\n",
       "      <td>1.3555</td>\n",
       "      <td>0.0</td>\n",
       "      <td>1.3565</td>\n",
       "      <td>1.3565</td>\n",
       "      <td>1.3565</td>\n",
       "      <td>1.3565</td>\n",
       "      <td>0.0</td>\n",
       "    </tr>\n",
       "    <tr>\n",
       "      <th>1</th>\n",
       "      <td>2005-01-02 18:38:00</td>\n",
       "      <td>1.3555</td>\n",
       "      <td>1.3555</td>\n",
       "      <td>1.3555</td>\n",
       "      <td>1.3555</td>\n",
       "      <td>0.0</td>\n",
       "      <td>1.3565</td>\n",
       "      <td>1.3565</td>\n",
       "      <td>1.3565</td>\n",
       "      <td>1.3565</td>\n",
       "      <td>0.0</td>\n",
       "    </tr>\n",
       "    <tr>\n",
       "      <th>2</th>\n",
       "      <td>2005-01-02 18:51:00</td>\n",
       "      <td>1.3562</td>\n",
       "      <td>1.3562</td>\n",
       "      <td>1.3562</td>\n",
       "      <td>1.3562</td>\n",
       "      <td>0.0</td>\n",
       "      <td>1.3572</td>\n",
       "      <td>1.3572</td>\n",
       "      <td>1.3572</td>\n",
       "      <td>1.3572</td>\n",
       "      <td>0.0</td>\n",
       "    </tr>\n",
       "    <tr>\n",
       "      <th>3</th>\n",
       "      <td>2005-01-02 18:52:00</td>\n",
       "      <td>1.3560</td>\n",
       "      <td>1.3560</td>\n",
       "      <td>1.3560</td>\n",
       "      <td>1.3560</td>\n",
       "      <td>0.0</td>\n",
       "      <td>1.3570</td>\n",
       "      <td>1.3570</td>\n",
       "      <td>1.3570</td>\n",
       "      <td>1.3570</td>\n",
       "      <td>0.0</td>\n",
       "    </tr>\n",
       "    <tr>\n",
       "      <th>4</th>\n",
       "      <td>2005-01-02 18:55:00</td>\n",
       "      <td>1.3563</td>\n",
       "      <td>1.3563</td>\n",
       "      <td>1.3563</td>\n",
       "      <td>1.3563</td>\n",
       "      <td>0.0</td>\n",
       "      <td>1.3573</td>\n",
       "      <td>1.3573</td>\n",
       "      <td>1.3573</td>\n",
       "      <td>1.3573</td>\n",
       "      <td>0.0</td>\n",
       "    </tr>\n",
       "  </tbody>\n",
       "</table>\n",
       "</div>"
      ],
      "text/plain": [
       "            Date_Time      BO      BH      BL      BC  BCh      AO      AH  \\\n",
       "0 2005-01-02 18:29:00  1.3555  1.3555  1.3555  1.3555  0.0  1.3565  1.3565   \n",
       "1 2005-01-02 18:38:00  1.3555  1.3555  1.3555  1.3555  0.0  1.3565  1.3565   \n",
       "2 2005-01-02 18:51:00  1.3562  1.3562  1.3562  1.3562  0.0  1.3572  1.3572   \n",
       "3 2005-01-02 18:52:00  1.3560  1.3560  1.3560  1.3560  0.0  1.3570  1.3570   \n",
       "4 2005-01-02 18:55:00  1.3563  1.3563  1.3563  1.3563  0.0  1.3573  1.3573   \n",
       "\n",
       "       AL      AC  ACh  \n",
       "0  1.3565  1.3565  0.0  \n",
       "1  1.3565  1.3565  0.0  \n",
       "2  1.3572  1.3572  0.0  \n",
       "3  1.3570  1.3570  0.0  \n",
       "4  1.3573  1.3573  0.0  "
      ]
     },
     "execution_count": 2,
     "metadata": {},
     "output_type": "execute_result"
    }
   ],
   "source": [
    "data_file = 'eurusd_minute.csv' \n",
    "df = pd.read_csv(data_file, parse_dates=[['Date', 'Time']]) \n",
    "df.head()"
   ]
  },
  {
   "cell_type": "code",
   "execution_count": 3,
   "metadata": {},
   "outputs": [],
   "source": [
    "df.Date_Time = pd.to_datetime(df.Date_Time)"
   ]
  },
  {
   "cell_type": "markdown",
   "metadata": {},
   "source": [
    "### Changing Time Zone to CST"
   ]
  },
  {
   "cell_type": "code",
   "execution_count": 4,
   "metadata": {},
   "outputs": [
    {
     "data": {
      "text/plain": [
       "datetime.datetime(2020, 12, 4, 15, 23, 1, 940854, tzinfo=<DstTzInfo 'America/Detroit' EST-1 day, 19:00:00 STD>)"
      ]
     },
     "execution_count": 4,
     "metadata": {},
     "output_type": "execute_result"
    }
   ],
   "source": [
    "tz = pytz.timezone('America/Detroit')\n",
    "tz.localize(datetime.utcnow())"
   ]
  },
  {
   "cell_type": "code",
   "execution_count": 5,
   "metadata": {},
   "outputs": [
    {
     "name": "stdout",
     "output_type": "stream",
     "text": [
      "<class 'pandas.core.frame.DataFrame'>\n",
      "RangeIndex: 5618819 entries, 0 to 5618818\n",
      "Data columns (total 11 columns):\n",
      " #   Column     Dtype         \n",
      "---  ------     -----         \n",
      " 0   Date_Time  datetime64[ns]\n",
      " 1   BO         float64       \n",
      " 2   BH         float64       \n",
      " 3   BL         float64       \n",
      " 4   BC         float64       \n",
      " 5   BCh        float64       \n",
      " 6   AO         float64       \n",
      " 7   AH         float64       \n",
      " 8   AL         float64       \n",
      " 9   AC         float64       \n",
      " 10  ACh        float64       \n",
      "dtypes: datetime64[ns](1), float64(10)\n",
      "memory usage: 471.6 MB\n"
     ]
    },
    {
     "data": {
      "text/plain": [
       "(None, (5618819, 11))"
      ]
     },
     "execution_count": 5,
     "metadata": {},
     "output_type": "execute_result"
    }
   ],
   "source": [
    "df.info(), df.shape\n"
   ]
  },
  {
   "cell_type": "code",
   "execution_count": 6,
   "metadata": {},
   "outputs": [],
   "source": [
    "df = df[~(df['Date_Time'] < '2017-01-01')]"
   ]
  },
  {
   "cell_type": "code",
   "execution_count": 7,
   "metadata": {},
   "outputs": [
    {
     "data": {
      "text/plain": [
       "(1200543, 11)"
      ]
     },
     "execution_count": 7,
     "metadata": {},
     "output_type": "execute_result"
    }
   ],
   "source": [
    "df.shape"
   ]
  },
  {
   "cell_type": "code",
   "execution_count": 8,
   "metadata": {},
   "outputs": [],
   "source": [
    "df.rename(columns={'BO':'bid_open',\n",
    "                  'BH':'bid_high',\n",
    "                  'BL':'bid_low',\n",
    "                  'BC':'bid_close',\n",
    "                  'BCh':'bid_change',\n",
    "                  'AO':'ask_open',\n",
    "                  'AH':'ask_high',\n",
    "                  'AL':'ask_low',\n",
    "                  'AC':'ask_close',\n",
    "                  'ACh':'ask_change'}, inplace=True)"
   ]
  },
  {
   "cell_type": "code",
   "execution_count": 9,
   "metadata": {},
   "outputs": [],
   "source": [
    "df['close'] = (df.bid_close + df.ask_close) / 2\n",
    "df['date'] = df['Date_Time'].dt.date\n",
    "df['date'] = df['date'].astype(str)"
   ]
  },
  {
   "cell_type": "code",
   "execution_count": 10,
   "metadata": {},
   "outputs": [],
   "source": [
    "#df = df.set_index('Date_Time').sort_index()\n",
    "#df = df[['Close','Volume']]"
   ]
  },
  {
   "cell_type": "code",
   "execution_count": 11,
   "metadata": {
    "scrolled": true
   },
   "outputs": [
    {
     "data": {
      "text/html": [
       "<div>\n",
       "<style scoped>\n",
       "    .dataframe tbody tr th:only-of-type {\n",
       "        vertical-align: middle;\n",
       "    }\n",
       "\n",
       "    .dataframe tbody tr th {\n",
       "        vertical-align: top;\n",
       "    }\n",
       "\n",
       "    .dataframe thead th {\n",
       "        text-align: right;\n",
       "    }\n",
       "</style>\n",
       "<table border=\"1\" class=\"dataframe\">\n",
       "  <thead>\n",
       "    <tr style=\"text-align: right;\">\n",
       "      <th></th>\n",
       "      <th>Date_Time</th>\n",
       "      <th>bid_open</th>\n",
       "      <th>bid_high</th>\n",
       "      <th>bid_low</th>\n",
       "      <th>bid_close</th>\n",
       "      <th>bid_change</th>\n",
       "      <th>ask_open</th>\n",
       "      <th>ask_high</th>\n",
       "      <th>ask_low</th>\n",
       "      <th>ask_close</th>\n",
       "      <th>ask_change</th>\n",
       "      <th>close</th>\n",
       "      <th>date</th>\n",
       "    </tr>\n",
       "  </thead>\n",
       "  <tbody>\n",
       "    <tr>\n",
       "      <th>4418276</th>\n",
       "      <td>2017-01-02 23:00:00</td>\n",
       "      <td>1.04660</td>\n",
       "      <td>1.04671</td>\n",
       "      <td>1.04636</td>\n",
       "      <td>1.04658</td>\n",
       "      <td>0.00002</td>\n",
       "      <td>1.04717</td>\n",
       "      <td>1.04717</td>\n",
       "      <td>1.04686</td>\n",
       "      <td>1.04694</td>\n",
       "      <td>0.00023</td>\n",
       "      <td>1.046760</td>\n",
       "      <td>2017-01-02</td>\n",
       "    </tr>\n",
       "    <tr>\n",
       "      <th>4418277</th>\n",
       "      <td>2017-01-02 23:01:00</td>\n",
       "      <td>1.04661</td>\n",
       "      <td>1.04695</td>\n",
       "      <td>1.04659</td>\n",
       "      <td>1.04672</td>\n",
       "      <td>-0.00011</td>\n",
       "      <td>1.04695</td>\n",
       "      <td>1.04733</td>\n",
       "      <td>1.04693</td>\n",
       "      <td>1.04709</td>\n",
       "      <td>-0.00014</td>\n",
       "      <td>1.046905</td>\n",
       "      <td>2017-01-02</td>\n",
       "    </tr>\n",
       "    <tr>\n",
       "      <th>4418278</th>\n",
       "      <td>2017-01-02 23:02:00</td>\n",
       "      <td>1.04674</td>\n",
       "      <td>1.04697</td>\n",
       "      <td>1.04658</td>\n",
       "      <td>1.04662</td>\n",
       "      <td>0.00012</td>\n",
       "      <td>1.04703</td>\n",
       "      <td>1.04726</td>\n",
       "      <td>1.04695</td>\n",
       "      <td>1.04696</td>\n",
       "      <td>0.00007</td>\n",
       "      <td>1.046790</td>\n",
       "      <td>2017-01-02</td>\n",
       "    </tr>\n",
       "    <tr>\n",
       "      <th>4418279</th>\n",
       "      <td>2017-01-02 23:03:00</td>\n",
       "      <td>1.04660</td>\n",
       "      <td>1.04666</td>\n",
       "      <td>1.04631</td>\n",
       "      <td>1.04666</td>\n",
       "      <td>-0.00006</td>\n",
       "      <td>1.04693</td>\n",
       "      <td>1.04696</td>\n",
       "      <td>1.04671</td>\n",
       "      <td>1.04692</td>\n",
       "      <td>0.00001</td>\n",
       "      <td>1.046790</td>\n",
       "      <td>2017-01-02</td>\n",
       "    </tr>\n",
       "    <tr>\n",
       "      <th>4418280</th>\n",
       "      <td>2017-01-02 23:04:00</td>\n",
       "      <td>1.04654</td>\n",
       "      <td>1.04657</td>\n",
       "      <td>1.04626</td>\n",
       "      <td>1.04637</td>\n",
       "      <td>0.00017</td>\n",
       "      <td>1.04698</td>\n",
       "      <td>1.04698</td>\n",
       "      <td>1.04663</td>\n",
       "      <td>1.04672</td>\n",
       "      <td>0.00026</td>\n",
       "      <td>1.046545</td>\n",
       "      <td>2017-01-02</td>\n",
       "    </tr>\n",
       "  </tbody>\n",
       "</table>\n",
       "</div>"
      ],
      "text/plain": [
       "                  Date_Time  bid_open  bid_high  bid_low  bid_close  \\\n",
       "4418276 2017-01-02 23:00:00   1.04660   1.04671  1.04636    1.04658   \n",
       "4418277 2017-01-02 23:01:00   1.04661   1.04695  1.04659    1.04672   \n",
       "4418278 2017-01-02 23:02:00   1.04674   1.04697  1.04658    1.04662   \n",
       "4418279 2017-01-02 23:03:00   1.04660   1.04666  1.04631    1.04666   \n",
       "4418280 2017-01-02 23:04:00   1.04654   1.04657  1.04626    1.04637   \n",
       "\n",
       "         bid_change  ask_open  ask_high  ask_low  ask_close  ask_change  \\\n",
       "4418276     0.00002   1.04717   1.04717  1.04686    1.04694     0.00023   \n",
       "4418277    -0.00011   1.04695   1.04733  1.04693    1.04709    -0.00014   \n",
       "4418278     0.00012   1.04703   1.04726  1.04695    1.04696     0.00007   \n",
       "4418279    -0.00006   1.04693   1.04696  1.04671    1.04692     0.00001   \n",
       "4418280     0.00017   1.04698   1.04698  1.04663    1.04672     0.00026   \n",
       "\n",
       "            close        date  \n",
       "4418276  1.046760  2017-01-02  \n",
       "4418277  1.046905  2017-01-02  \n",
       "4418278  1.046790  2017-01-02  \n",
       "4418279  1.046790  2017-01-02  \n",
       "4418280  1.046545  2017-01-02  "
      ]
     },
     "execution_count": 11,
     "metadata": {},
     "output_type": "execute_result"
    }
   ],
   "source": [
    "df.head()"
   ]
  },
  {
   "cell_type": "code",
   "execution_count": 12,
   "metadata": {},
   "outputs": [
    {
     "name": "stdout",
     "output_type": "stream",
     "text": [
      "<class 'pandas.core.frame.DataFrame'>\n",
      "Int64Index: 1200543 entries, 4418276 to 5618818\n",
      "Data columns (total 13 columns):\n",
      " #   Column      Non-Null Count    Dtype         \n",
      "---  ------      --------------    -----         \n",
      " 0   Date_Time   1200543 non-null  datetime64[ns]\n",
      " 1   bid_open    1200543 non-null  float64       \n",
      " 2   bid_high    1200543 non-null  float64       \n",
      " 3   bid_low     1200543 non-null  float64       \n",
      " 4   bid_close   1200543 non-null  float64       \n",
      " 5   bid_change  1200543 non-null  float64       \n",
      " 6   ask_open    1200543 non-null  float64       \n",
      " 7   ask_high    1200543 non-null  float64       \n",
      " 8   ask_low     1200543 non-null  float64       \n",
      " 9   ask_close   1200543 non-null  float64       \n",
      " 10  ask_change  1200543 non-null  float64       \n",
      " 11  close       1200543 non-null  float64       \n",
      " 12  date        1200543 non-null  object        \n",
      "dtypes: datetime64[ns](1), float64(11), object(1)\n",
      "memory usage: 128.2+ MB\n"
     ]
    }
   ],
   "source": [
    "df.info()"
   ]
  },
  {
   "cell_type": "code",
   "execution_count": 13,
   "metadata": {},
   "outputs": [
    {
     "data": {
      "text/plain": [
       "(43310, 13)"
      ]
     },
     "execution_count": 13,
     "metadata": {},
     "output_type": "execute_result"
    }
   ],
   "source": [
    "### Trading Times 2200-2259\n",
    "\n",
    "twen_2 = (df.Date_Time.dt.hour >= 22) & (df.Date_Time.dt.hour <= 22)\n",
    "\n",
    "df_22 = df[twen_2]\n",
    "df_22.shape"
   ]
  },
  {
   "cell_type": "code",
   "execution_count": 14,
   "metadata": {},
   "outputs": [
    {
     "data": {
      "text/plain": [
       "(51128, 13)"
      ]
     },
     "execution_count": 14,
     "metadata": {},
     "output_type": "execute_result"
    }
   ],
   "source": [
    "### Trading Times 0600-0659\n",
    "\n",
    "six = (df['Date_Time'].dt.hour >= 6) & \\\n",
    "            (df['Date_Time'].dt.hour <= 6)\n",
    "\n",
    "df_6 = df[six]\n",
    "df_6.shape"
   ]
  },
  {
   "cell_type": "code",
   "execution_count": 15,
   "metadata": {},
   "outputs": [
    {
     "data": {
      "text/plain": [
       "(98826, 13)"
      ]
     },
     "execution_count": 15,
     "metadata": {},
     "output_type": "execute_result"
    }
   ],
   "source": [
    "### Trading Times 0400-0559\n",
    "\n",
    "four = (df['Date_Time'].dt.hour >= 4) & \\\n",
    "            (df['Date_Time'].dt.hour <= 5)\n",
    "\n",
    "df_4 = df[four]\n",
    "df_4.shape"
   ]
  },
  {
   "cell_type": "code",
   "execution_count": 16,
   "metadata": {
    "scrolled": true
   },
   "outputs": [
    {
     "data": {
      "text/html": [
       "<div>\n",
       "<style scoped>\n",
       "    .dataframe tbody tr th:only-of-type {\n",
       "        vertical-align: middle;\n",
       "    }\n",
       "\n",
       "    .dataframe tbody tr th {\n",
       "        vertical-align: top;\n",
       "    }\n",
       "\n",
       "    .dataframe thead th {\n",
       "        text-align: right;\n",
       "    }\n",
       "</style>\n",
       "<table border=\"1\" class=\"dataframe\">\n",
       "  <thead>\n",
       "    <tr style=\"text-align: right;\">\n",
       "      <th></th>\n",
       "      <th>Date_Time</th>\n",
       "      <th>bid_open</th>\n",
       "      <th>bid_high</th>\n",
       "      <th>bid_low</th>\n",
       "      <th>bid_close</th>\n",
       "      <th>bid_change</th>\n",
       "      <th>ask_open</th>\n",
       "      <th>ask_high</th>\n",
       "      <th>ask_low</th>\n",
       "      <th>ask_close</th>\n",
       "      <th>ask_change</th>\n",
       "      <th>close</th>\n",
       "      <th>date</th>\n",
       "    </tr>\n",
       "  </thead>\n",
       "  <tbody>\n",
       "    <tr>\n",
       "      <th>4418630</th>\n",
       "      <td>2017-01-03 05:00:00</td>\n",
       "      <td>1.04876</td>\n",
       "      <td>1.04878</td>\n",
       "      <td>1.04876</td>\n",
       "      <td>1.04878</td>\n",
       "      <td>-0.00002</td>\n",
       "      <td>1.04888</td>\n",
       "      <td>1.04892</td>\n",
       "      <td>1.04888</td>\n",
       "      <td>1.04892</td>\n",
       "      <td>-0.00004</td>\n",
       "      <td>1.048850</td>\n",
       "      <td>2017-01-03</td>\n",
       "    </tr>\n",
       "    <tr>\n",
       "      <th>4418631</th>\n",
       "      <td>2017-01-03 05:01:00</td>\n",
       "      <td>1.04878</td>\n",
       "      <td>1.04882</td>\n",
       "      <td>1.04876</td>\n",
       "      <td>1.04881</td>\n",
       "      <td>-0.00003</td>\n",
       "      <td>1.04891</td>\n",
       "      <td>1.04895</td>\n",
       "      <td>1.04890</td>\n",
       "      <td>1.04894</td>\n",
       "      <td>-0.00003</td>\n",
       "      <td>1.048875</td>\n",
       "      <td>2017-01-03</td>\n",
       "    </tr>\n",
       "    <tr>\n",
       "      <th>4418632</th>\n",
       "      <td>2017-01-03 05:02:00</td>\n",
       "      <td>1.04882</td>\n",
       "      <td>1.04882</td>\n",
       "      <td>1.04878</td>\n",
       "      <td>1.04878</td>\n",
       "      <td>0.00004</td>\n",
       "      <td>1.04895</td>\n",
       "      <td>1.04895</td>\n",
       "      <td>1.04894</td>\n",
       "      <td>1.04894</td>\n",
       "      <td>0.00001</td>\n",
       "      <td>1.048860</td>\n",
       "      <td>2017-01-03</td>\n",
       "    </tr>\n",
       "    <tr>\n",
       "      <th>4418633</th>\n",
       "      <td>2017-01-03 05:03:00</td>\n",
       "      <td>1.04880</td>\n",
       "      <td>1.04888</td>\n",
       "      <td>1.04880</td>\n",
       "      <td>1.04888</td>\n",
       "      <td>-0.00008</td>\n",
       "      <td>1.04895</td>\n",
       "      <td>1.04902</td>\n",
       "      <td>1.04895</td>\n",
       "      <td>1.04902</td>\n",
       "      <td>-0.00007</td>\n",
       "      <td>1.048950</td>\n",
       "      <td>2017-01-03</td>\n",
       "    </tr>\n",
       "    <tr>\n",
       "      <th>4418634</th>\n",
       "      <td>2017-01-03 05:04:00</td>\n",
       "      <td>1.04888</td>\n",
       "      <td>1.04888</td>\n",
       "      <td>1.04879</td>\n",
       "      <td>1.04879</td>\n",
       "      <td>0.00009</td>\n",
       "      <td>1.04901</td>\n",
       "      <td>1.04901</td>\n",
       "      <td>1.04893</td>\n",
       "      <td>1.04893</td>\n",
       "      <td>0.00008</td>\n",
       "      <td>1.048860</td>\n",
       "      <td>2017-01-03</td>\n",
       "    </tr>\n",
       "    <tr>\n",
       "      <th>...</th>\n",
       "      <td>...</td>\n",
       "      <td>...</td>\n",
       "      <td>...</td>\n",
       "      <td>...</td>\n",
       "      <td>...</td>\n",
       "      <td>...</td>\n",
       "      <td>...</td>\n",
       "      <td>...</td>\n",
       "      <td>...</td>\n",
       "      <td>...</td>\n",
       "      <td>...</td>\n",
       "      <td>...</td>\n",
       "      <td>...</td>\n",
       "    </tr>\n",
       "    <tr>\n",
       "      <th>5617781</th>\n",
       "      <td>2020-04-29 05:55:00</td>\n",
       "      <td>1.08538</td>\n",
       "      <td>1.08539</td>\n",
       "      <td>1.08529</td>\n",
       "      <td>1.08532</td>\n",
       "      <td>0.00006</td>\n",
       "      <td>1.08552</td>\n",
       "      <td>1.08553</td>\n",
       "      <td>1.08545</td>\n",
       "      <td>1.08547</td>\n",
       "      <td>0.00005</td>\n",
       "      <td>1.085395</td>\n",
       "      <td>2020-04-29</td>\n",
       "    </tr>\n",
       "    <tr>\n",
       "      <th>5617782</th>\n",
       "      <td>2020-04-29 05:56:00</td>\n",
       "      <td>1.08534</td>\n",
       "      <td>1.08536</td>\n",
       "      <td>1.08527</td>\n",
       "      <td>1.08528</td>\n",
       "      <td>0.00006</td>\n",
       "      <td>1.08549</td>\n",
       "      <td>1.08550</td>\n",
       "      <td>1.08540</td>\n",
       "      <td>1.08542</td>\n",
       "      <td>0.00007</td>\n",
       "      <td>1.085350</td>\n",
       "      <td>2020-04-29</td>\n",
       "    </tr>\n",
       "    <tr>\n",
       "      <th>5617783</th>\n",
       "      <td>2020-04-29 05:57:00</td>\n",
       "      <td>1.08526</td>\n",
       "      <td>1.08528</td>\n",
       "      <td>1.08523</td>\n",
       "      <td>1.08525</td>\n",
       "      <td>0.00001</td>\n",
       "      <td>1.08541</td>\n",
       "      <td>1.08541</td>\n",
       "      <td>1.08537</td>\n",
       "      <td>1.08537</td>\n",
       "      <td>0.00004</td>\n",
       "      <td>1.085310</td>\n",
       "      <td>2020-04-29</td>\n",
       "    </tr>\n",
       "    <tr>\n",
       "      <th>5617784</th>\n",
       "      <td>2020-04-29 05:58:00</td>\n",
       "      <td>1.08526</td>\n",
       "      <td>1.08536</td>\n",
       "      <td>1.08526</td>\n",
       "      <td>1.08533</td>\n",
       "      <td>-0.00007</td>\n",
       "      <td>1.08539</td>\n",
       "      <td>1.08549</td>\n",
       "      <td>1.08539</td>\n",
       "      <td>1.08547</td>\n",
       "      <td>-0.00008</td>\n",
       "      <td>1.085400</td>\n",
       "      <td>2020-04-29</td>\n",
       "    </tr>\n",
       "    <tr>\n",
       "      <th>5617785</th>\n",
       "      <td>2020-04-29 05:59:00</td>\n",
       "      <td>1.08531</td>\n",
       "      <td>1.08548</td>\n",
       "      <td>1.08529</td>\n",
       "      <td>1.08548</td>\n",
       "      <td>-0.00017</td>\n",
       "      <td>1.08546</td>\n",
       "      <td>1.08563</td>\n",
       "      <td>1.08545</td>\n",
       "      <td>1.08563</td>\n",
       "      <td>-0.00017</td>\n",
       "      <td>1.085555</td>\n",
       "      <td>2020-04-29</td>\n",
       "    </tr>\n",
       "  </tbody>\n",
       "</table>\n",
       "<p>49813 rows × 13 columns</p>\n",
       "</div>"
      ],
      "text/plain": [
       "                  Date_Time  bid_open  bid_high  bid_low  bid_close  \\\n",
       "4418630 2017-01-03 05:00:00   1.04876   1.04878  1.04876    1.04878   \n",
       "4418631 2017-01-03 05:01:00   1.04878   1.04882  1.04876    1.04881   \n",
       "4418632 2017-01-03 05:02:00   1.04882   1.04882  1.04878    1.04878   \n",
       "4418633 2017-01-03 05:03:00   1.04880   1.04888  1.04880    1.04888   \n",
       "4418634 2017-01-03 05:04:00   1.04888   1.04888  1.04879    1.04879   \n",
       "...                     ...       ...       ...      ...        ...   \n",
       "5617781 2020-04-29 05:55:00   1.08538   1.08539  1.08529    1.08532   \n",
       "5617782 2020-04-29 05:56:00   1.08534   1.08536  1.08527    1.08528   \n",
       "5617783 2020-04-29 05:57:00   1.08526   1.08528  1.08523    1.08525   \n",
       "5617784 2020-04-29 05:58:00   1.08526   1.08536  1.08526    1.08533   \n",
       "5617785 2020-04-29 05:59:00   1.08531   1.08548  1.08529    1.08548   \n",
       "\n",
       "         bid_change  ask_open  ask_high  ask_low  ask_close  ask_change  \\\n",
       "4418630    -0.00002   1.04888   1.04892  1.04888    1.04892    -0.00004   \n",
       "4418631    -0.00003   1.04891   1.04895  1.04890    1.04894    -0.00003   \n",
       "4418632     0.00004   1.04895   1.04895  1.04894    1.04894     0.00001   \n",
       "4418633    -0.00008   1.04895   1.04902  1.04895    1.04902    -0.00007   \n",
       "4418634     0.00009   1.04901   1.04901  1.04893    1.04893     0.00008   \n",
       "...             ...       ...       ...      ...        ...         ...   \n",
       "5617781     0.00006   1.08552   1.08553  1.08545    1.08547     0.00005   \n",
       "5617782     0.00006   1.08549   1.08550  1.08540    1.08542     0.00007   \n",
       "5617783     0.00001   1.08541   1.08541  1.08537    1.08537     0.00004   \n",
       "5617784    -0.00007   1.08539   1.08549  1.08539    1.08547    -0.00008   \n",
       "5617785    -0.00017   1.08546   1.08563  1.08545    1.08563    -0.00017   \n",
       "\n",
       "            close        date  \n",
       "4418630  1.048850  2017-01-03  \n",
       "4418631  1.048875  2017-01-03  \n",
       "4418632  1.048860  2017-01-03  \n",
       "4418633  1.048950  2017-01-03  \n",
       "4418634  1.048860  2017-01-03  \n",
       "...           ...         ...  \n",
       "5617781  1.085395  2020-04-29  \n",
       "5617782  1.085350  2020-04-29  \n",
       "5617783  1.085310  2020-04-29  \n",
       "5617784  1.085400  2020-04-29  \n",
       "5617785  1.085555  2020-04-29  \n",
       "\n",
       "[49813 rows x 13 columns]"
      ]
     },
     "execution_count": 16,
     "metadata": {},
     "output_type": "execute_result"
    }
   ],
   "source": [
    "### Trading Times 0500-0559\n",
    "\n",
    "five = (df['Date_Time'].dt.hour >= 5) & \\\n",
    "            (df['Date_Time'].dt.hour <= 5)\n",
    "\n",
    "df_5 = df[five]\n",
    "df_5.shape\n",
    "df_5"
   ]
  },
  {
   "cell_type": "code",
   "execution_count": 17,
   "metadata": {},
   "outputs": [
    {
     "data": {
      "text/html": [
       "<div>\n",
       "<style scoped>\n",
       "    .dataframe tbody tr th:only-of-type {\n",
       "        vertical-align: middle;\n",
       "    }\n",
       "\n",
       "    .dataframe tbody tr th {\n",
       "        vertical-align: top;\n",
       "    }\n",
       "\n",
       "    .dataframe thead th {\n",
       "        text-align: right;\n",
       "    }\n",
       "</style>\n",
       "<table border=\"1\" class=\"dataframe\">\n",
       "  <thead>\n",
       "    <tr style=\"text-align: right;\">\n",
       "      <th></th>\n",
       "      <th>bid_open</th>\n",
       "      <th>bid_high</th>\n",
       "      <th>bid_low</th>\n",
       "      <th>bid_close</th>\n",
       "      <th>bid_change</th>\n",
       "      <th>ask_open</th>\n",
       "      <th>ask_high</th>\n",
       "      <th>ask_low</th>\n",
       "      <th>ask_close</th>\n",
       "      <th>ask_change</th>\n",
       "      <th>close</th>\n",
       "    </tr>\n",
       "  </thead>\n",
       "  <tbody>\n",
       "    <tr>\n",
       "      <th>count</th>\n",
       "      <td>49813.000000</td>\n",
       "      <td>49813.000000</td>\n",
       "      <td>49813.000000</td>\n",
       "      <td>49813.000000</td>\n",
       "      <td>49813.000000</td>\n",
       "      <td>49813.000000</td>\n",
       "      <td>49813.000000</td>\n",
       "      <td>49813.000000</td>\n",
       "      <td>49813.000000</td>\n",
       "      <td>4.981300e+04</td>\n",
       "      <td>49813.000000</td>\n",
       "    </tr>\n",
       "    <tr>\n",
       "      <th>mean</th>\n",
       "      <td>1.139776</td>\n",
       "      <td>1.139826</td>\n",
       "      <td>1.139726</td>\n",
       "      <td>1.139777</td>\n",
       "      <td>-0.000001</td>\n",
       "      <td>1.139913</td>\n",
       "      <td>1.139963</td>\n",
       "      <td>1.139863</td>\n",
       "      <td>1.139913</td>\n",
       "      <td>-6.094795e-07</td>\n",
       "      <td>1.139845</td>\n",
       "    </tr>\n",
       "    <tr>\n",
       "      <th>std</th>\n",
       "      <td>0.046069</td>\n",
       "      <td>0.046078</td>\n",
       "      <td>0.046060</td>\n",
       "      <td>0.046069</td>\n",
       "      <td>0.000090</td>\n",
       "      <td>0.046071</td>\n",
       "      <td>0.046080</td>\n",
       "      <td>0.046062</td>\n",
       "      <td>0.046071</td>\n",
       "      <td>9.032389e-05</td>\n",
       "      <td>0.046070</td>\n",
       "    </tr>\n",
       "    <tr>\n",
       "      <th>min</th>\n",
       "      <td>1.040150</td>\n",
       "      <td>1.040200</td>\n",
       "      <td>1.040110</td>\n",
       "      <td>1.040160</td>\n",
       "      <td>-0.002260</td>\n",
       "      <td>1.040290</td>\n",
       "      <td>1.040340</td>\n",
       "      <td>1.040250</td>\n",
       "      <td>1.040290</td>\n",
       "      <td>-2.280000e-03</td>\n",
       "      <td>1.040225</td>\n",
       "    </tr>\n",
       "    <tr>\n",
       "      <th>25%</th>\n",
       "      <td>1.108270</td>\n",
       "      <td>1.108300</td>\n",
       "      <td>1.108240</td>\n",
       "      <td>1.108280</td>\n",
       "      <td>-0.000040</td>\n",
       "      <td>1.108400</td>\n",
       "      <td>1.108430</td>\n",
       "      <td>1.108380</td>\n",
       "      <td>1.108410</td>\n",
       "      <td>-4.000000e-05</td>\n",
       "      <td>1.108345</td>\n",
       "    </tr>\n",
       "    <tr>\n",
       "      <th>50%</th>\n",
       "      <td>1.134080</td>\n",
       "      <td>1.134120</td>\n",
       "      <td>1.134020</td>\n",
       "      <td>1.134080</td>\n",
       "      <td>0.000000</td>\n",
       "      <td>1.134210</td>\n",
       "      <td>1.134260</td>\n",
       "      <td>1.134160</td>\n",
       "      <td>1.134210</td>\n",
       "      <td>0.000000e+00</td>\n",
       "      <td>1.134145</td>\n",
       "    </tr>\n",
       "    <tr>\n",
       "      <th>75%</th>\n",
       "      <td>1.172660</td>\n",
       "      <td>1.172710</td>\n",
       "      <td>1.172570</td>\n",
       "      <td>1.172650</td>\n",
       "      <td>0.000040</td>\n",
       "      <td>1.172800</td>\n",
       "      <td>1.172850</td>\n",
       "      <td>1.172710</td>\n",
       "      <td>1.172780</td>\n",
       "      <td>4.000000e-05</td>\n",
       "      <td>1.172715</td>\n",
       "    </tr>\n",
       "    <tr>\n",
       "      <th>max</th>\n",
       "      <td>1.255350</td>\n",
       "      <td>1.255440</td>\n",
       "      <td>1.255250</td>\n",
       "      <td>1.255370</td>\n",
       "      <td>0.003090</td>\n",
       "      <td>1.255500</td>\n",
       "      <td>1.255600</td>\n",
       "      <td>1.255410</td>\n",
       "      <td>1.255510</td>\n",
       "      <td>2.850000e-03</td>\n",
       "      <td>1.255440</td>\n",
       "    </tr>\n",
       "  </tbody>\n",
       "</table>\n",
       "</div>"
      ],
      "text/plain": [
       "           bid_open      bid_high       bid_low     bid_close    bid_change  \\\n",
       "count  49813.000000  49813.000000  49813.000000  49813.000000  49813.000000   \n",
       "mean       1.139776      1.139826      1.139726      1.139777     -0.000001   \n",
       "std        0.046069      0.046078      0.046060      0.046069      0.000090   \n",
       "min        1.040150      1.040200      1.040110      1.040160     -0.002260   \n",
       "25%        1.108270      1.108300      1.108240      1.108280     -0.000040   \n",
       "50%        1.134080      1.134120      1.134020      1.134080      0.000000   \n",
       "75%        1.172660      1.172710      1.172570      1.172650      0.000040   \n",
       "max        1.255350      1.255440      1.255250      1.255370      0.003090   \n",
       "\n",
       "           ask_open      ask_high       ask_low     ask_close    ask_change  \\\n",
       "count  49813.000000  49813.000000  49813.000000  49813.000000  4.981300e+04   \n",
       "mean       1.139913      1.139963      1.139863      1.139913 -6.094795e-07   \n",
       "std        0.046071      0.046080      0.046062      0.046071  9.032389e-05   \n",
       "min        1.040290      1.040340      1.040250      1.040290 -2.280000e-03   \n",
       "25%        1.108400      1.108430      1.108380      1.108410 -4.000000e-05   \n",
       "50%        1.134210      1.134260      1.134160      1.134210  0.000000e+00   \n",
       "75%        1.172800      1.172850      1.172710      1.172780  4.000000e-05   \n",
       "max        1.255500      1.255600      1.255410      1.255510  2.850000e-03   \n",
       "\n",
       "              close  \n",
       "count  49813.000000  \n",
       "mean       1.139845  \n",
       "std        0.046070  \n",
       "min        1.040225  \n",
       "25%        1.108345  \n",
       "50%        1.134145  \n",
       "75%        1.172715  \n",
       "max        1.255440  "
      ]
     },
     "execution_count": 17,
     "metadata": {},
     "output_type": "execute_result"
    }
   ],
   "source": [
    "#df_5.date.unique()\n",
    "df_5.describe()"
   ]
  },
  {
   "cell_type": "code",
   "execution_count": 18,
   "metadata": {},
   "outputs": [
    {
     "data": {
      "text/plain": [
       "<matplotlib.axes._subplots.AxesSubplot at 0x7faabfcd3650>"
      ]
     },
     "execution_count": 18,
     "metadata": {},
     "output_type": "execute_result"
    },
    {
     "data": {
      "image/png": "[encoded data removed]",
      "text/plain": [
       "<Figure size 936x504 with 1 Axes>"
      ]
     },
     "metadata": {
      "needs_background": "light"
     },
     "output_type": "display_data"
    }
   ],
   "source": [
    "\n",
    "df_5[df_5.date == '2017-05-01'].close.plot()\n",
    "df_5[df_5.date == '2017-05-02'].close.plot()\n",
    "df_5[df_5.date == '2017-05-03'].close.plot()\n",
    "df_5[df_5.date == '2017-05-04'].close.plot()\n",
    "df_5[df_5.date == '2017-05-05'].close.plot()\n",
    "df_5[df_5.date == '2017-05-08'].close.plot()\n",
    "df_5[df_5.date == '2017-05-09'].close.plot()\n",
    "df_5[df_5.date == '2017-05-10'].close.plot()\n",
    "df_5[df_5.date == '2017-05-11'].close.plot()\n",
    "df_5[df_5.date == '2017-05-12'].close.plot()\n",
    "df_5[df_5.date == '2017-05-15'].close.plot()\n",
    "df_5[df_5.date == '2017-05-16'].close.plot()\n",
    "\n",
    "\n",
    "#d.close.plot()"
   ]
  },
  {
   "cell_type": "code",
   "execution_count": 19,
   "metadata": {},
   "outputs": [
    {
     "data": {
      "text/plain": [
       "4418630    1.048850\n",
       "4418631    1.048875\n",
       "4418632    1.048860\n",
       "4418633    1.048950\n",
       "4418634    1.048860\n",
       "             ...   \n",
       "5617781    1.085395\n",
       "5617782    1.085350\n",
       "5617783    1.085310\n",
       "5617784    1.085400\n",
       "5617785    1.085555\n",
       "Name: close, Length: 49813, dtype: float64"
      ]
     },
     "execution_count": 19,
     "metadata": {},
     "output_type": "execute_result"
    }
   ],
   "source": [
    "df_5['close'].rolling(1).mean()"
   ]
  },
  {
   "cell_type": "code",
   "execution_count": null,
   "metadata": {},
   "outputs": [],
   "source": []
  },
  {
   "cell_type": "code",
   "execution_count": 20,
   "metadata": {},
   "outputs": [
    {
     "ename": "AttributeError",
     "evalue": "'Int64Index' object has no attribute 'strftime'",
     "output_type": "error",
     "traceback": [
      "\u001b[0;31m--------------------------------------\u001b[0m",
      "\u001b[0;31mAttributeError\u001b[0mTraceback (most recent call last)",
      "\u001b[0;32m<ipython-input-20-b48cc52046a3>\u001b[0m in \u001b[0;36m<module>\u001b[0;34m\u001b[0m\n\u001b[1;32m      2\u001b[0m \u001b[0;31m#match_timestamp = \"05:01:00\"\u001b[0m\u001b[0;34m\u001b[0m\u001b[0;34m\u001b[0m\u001b[0;34m\u001b[0m\u001b[0m\n\u001b[1;32m      3\u001b[0m \u001b[0;31m#match_timestamp = \"05:02:00\"\u001b[0m\u001b[0;34m\u001b[0m\u001b[0;34m\u001b[0m\u001b[0;34m\u001b[0m\u001b[0m\n\u001b[0;32m----> 4\u001b[0;31m \u001b[0mzero\u001b[0m \u001b[0;34m=\u001b[0m \u001b[0mdf_5\u001b[0m\u001b[0;34m.\u001b[0m\u001b[0mloc\u001b[0m\u001b[0;34m[\u001b[0m\u001b[0mdf_5\u001b[0m\u001b[0;34m.\u001b[0m\u001b[0mindex\u001b[0m\u001b[0;34m.\u001b[0m\u001b[0mstrftime\u001b[0m\u001b[0;34m(\u001b[0m\u001b[0;34m\"%H:%M:%S\"\u001b[0m\u001b[0;34m)\u001b[0m \u001b[0;34m==\u001b[0m \u001b[0mmatch_timestamp\u001b[0m\u001b[0;34m]\u001b[0m\u001b[0;34m.\u001b[0m\u001b[0mmean\u001b[0m\u001b[0;34m(\u001b[0m\u001b[0;34m)\u001b[0m\u001b[0;34m\u001b[0m\u001b[0;34m\u001b[0m\u001b[0m\n\u001b[0m",
      "\u001b[0;31mAttributeError\u001b[0m: 'Int64Index' object has no attribute 'strftime'"
     ]
    }
   ],
   "source": [
    "match_timestamp = \"05:00:00\"\n",
    "#match_timestamp = \"05:01:00\"\n",
    "#match_timestamp = \"05:02:00\"\n",
    "zero = df_5.loc[df_5.index.strftime(\"%H:%M:%S\") == match_timestamp].mean()"
   ]
  },
  {
   "cell_type": "code",
   "execution_count": null,
   "metadata": {},
   "outputs": [],
   "source": [
    "zero"
   ]
  },
  {
   "cell_type": "code",
   "execution_count": null,
   "metadata": {},
   "outputs": [],
   "source": [
    "df_5.loc[df_5.index.strftime(\"%H:%M:%S\") == '05:00:00'].close.plot()\n",
    "df_5.loc[df_5.index.strftime(\"%H:%M:%S\") == '05:01:00'].close.plot()\n",
    "df_5.loc[df_5.index.strftime(\"%H:%M:%S\") == '05:02:00'].close.plot()\n",
    "df_5.loc[df_5.index.strftime(\"%H:%M:%S\") == '05:03:00'].close.plot()\n",
    "df_5.loc[df_5.index.strftime(\"%H:%M:%S\") == '05:04:00'].close.plot()\n",
    "df_5.loc[df_5.index.strftime(\"%H:%M:%S\") == '05:05:00'].close.plot()\n",
    "df_5.loc[df_5.index.strftime(\"%H:%M:%S\") == '05:06:00'].close.plot()\n",
    "df_5.loc[df_5.index.strftime(\"%H:%M:%S\") == '05:07:00'].close.plot()\n",
    "df_5.loc[df_5.index.strftime(\"%H:%M:%S\") == '05:08:00'].close.plot()\n",
    "df_5.loc[df_5.index.strftime(\"%H:%M:%S\") == '05:09:00'].close.plot()\n",
    "df_5.loc[df_5.index.strftime(\"%H:%M:%S\") == '05:10:00'].close.plot()\n",
    "df_5.loc[df_5.index.strftime(\"%H:%M:%S\") == '05:11:00'].close.plot()"
   ]
  },
  {
   "cell_type": "code",
   "execution_count": null,
   "metadata": {},
   "outputs": [],
   "source": [
    "df = pd.read_csv('EURUSD_M15.csv',sep='[\\s,]{1,20}')#, parse_dates=[['Date', 'Time']]) \n",
    "df.head()"
   ]
  },
  {
   "cell_type": "code",
   "execution_count": null,
   "metadata": {},
   "outputs": [],
   "source": [
    "Something like df.resample(“D”) ",
    "followed by an aggregation function ",
    "Like .min or .max"
   ]
  },
  {
   "cell_type": "code",
   "execution_count": 22,
   "metadata": {},
   "outputs": [
    {
     "ename": "TypeError",
     "evalue": "Only valid with DatetimeIndex, TimedeltaIndex or PeriodIndex, but got an instance of 'Int64Index'",
     "output_type": "error",
     "traceback": [
      "\u001b[0;31m--------------------------------------\u001b[0m",
      "\u001b[0;31mTypeError\u001b[0mTraceback (most recent call last)",
      "\u001b[0;32m<ipython-input-22-db6a64fc0e52>\u001b[0m in \u001b[0;36m<module>\u001b[0;34m\u001b[0m\n\u001b[0;32m----> 1\u001b[0;31m \u001b[0mdf_5\u001b[0m\u001b[0;34m.\u001b[0m\u001b[0mDate_Time\u001b[0m\u001b[0;34m.\u001b[0m\u001b[0mresample\u001b[0m\u001b[0;34m(\u001b[0m\u001b[0;34m'D'\u001b[0m\u001b[0;34m)\u001b[0m\u001b[0;34m.\u001b[0m\u001b[0mmean\u001b[0m\u001b[0;34m(\u001b[0m\u001b[0;34m)\u001b[0m\u001b[0;34m.\u001b[0m\u001b[0mplot\u001b[0m\u001b[0;34m(\u001b[0m\u001b[0;34m)\u001b[0m\u001b[0;34m\u001b[0m\u001b[0;34m\u001b[0m\u001b[0m\n\u001b[0m",
      "\u001b[0;32m/usr/local/anaconda3/lib/python3.7/site-packages/pandas/core/generic.py\u001b[0m in \u001b[0;36mresample\u001b[0;34m(self, rule, axis, closed, label, convention, kind, loffset, base, on, level)\u001b[0m\n\u001b[1;32m   8113\u001b[0m             \u001b[0mbase\u001b[0m\u001b[0;34m=\u001b[0m\u001b[0mbase\u001b[0m\u001b[0;34m,\u001b[0m\u001b[0;34m\u001b[0m\u001b[0;34m\u001b[0m\u001b[0m\n\u001b[1;32m   8114\u001b[0m             \u001b[0mkey\u001b[0m\u001b[0;34m=\u001b[0m\u001b[0mon\u001b[0m\u001b[0;34m,\u001b[0m\u001b[0;34m\u001b[0m\u001b[0;34m\u001b[0m\u001b[0m\n\u001b[0;32m-> 8115\u001b[0;31m             \u001b[0mlevel\u001b[0m\u001b[0;34m=\u001b[0m\u001b[0mlevel\u001b[0m\u001b[0;34m,\u001b[0m\u001b[0;34m\u001b[0m\u001b[0;34m\u001b[0m\u001b[0m\n\u001b[0m\u001b[1;32m   8116\u001b[0m         )\n\u001b[1;32m   8117\u001b[0m \u001b[0;34m\u001b[0m\u001b[0m\n",
      "\u001b[0;32m/usr/local/anaconda3/lib/python3.7/site-packages/pandas/core/resample.py\u001b[0m in \u001b[0;36mresample\u001b[0;34m(obj, kind, **kwds)\u001b[0m\n\u001b[1;32m   1268\u001b[0m     \"\"\"\n\u001b[1;32m   1269\u001b[0m     \u001b[0mtg\u001b[0m \u001b[0;34m=\u001b[0m \u001b[0mTimeGrouper\u001b[0m\u001b[0;34m(\u001b[0m\u001b[0;34m**\u001b[0m\u001b[0mkwds\u001b[0m\u001b[0;34m)\u001b[0m\u001b[0;34m\u001b[0m\u001b[0;34m\u001b[0m\u001b[0m\n\u001b[0;32m-> 1270\u001b[0;31m     \u001b[0;32mreturn\u001b[0m \u001b[0mtg\u001b[0m\u001b[0;34m.\u001b[0m\u001b[0m_get_resampler\u001b[0m\u001b[0;34m(\u001b[0m\u001b[0mobj\u001b[0m\u001b[0;34m,\u001b[0m \u001b[0mkind\u001b[0m\u001b[0;34m=\u001b[0m\u001b[0mkind\u001b[0m\u001b[0;34m)\u001b[0m\u001b[0;34m\u001b[0m\u001b[0;34m\u001b[0m\u001b[0m\n\u001b[0m\u001b[1;32m   1271\u001b[0m \u001b[0;34m\u001b[0m\u001b[0m\n\u001b[1;32m   1272\u001b[0m \u001b[0;34m\u001b[0m\u001b[0m\n",
      "\u001b[0;32m/usr/local/anaconda3/lib/python3.7/site-packages/pandas/core/resample.py\u001b[0m in \u001b[0;36m_get_resampler\u001b[0;34m(self, obj, kind)\u001b[0m\n\u001b[1;32m   1402\u001b[0m \u001b[0;34m\u001b[0m\u001b[0m\n\u001b[1;32m   1403\u001b[0m         raise TypeError(\n\u001b[0;32m-> 1404\u001b[0;31m             \u001b[0;34m\"Only valid with DatetimeIndex, \"\u001b[0m\u001b[0;34m\u001b[0m\u001b[0;34m\u001b[0m\u001b[0m\n\u001b[0m\u001b[1;32m   1405\u001b[0m             \u001b[0;34m\"TimedeltaIndex or PeriodIndex, \"\u001b[0m\u001b[0;34m\u001b[0m\u001b[0;34m\u001b[0m\u001b[0m\n\u001b[1;32m   1406\u001b[0m             \u001b[0;34mf\"but got an instance of '{type(ax).__name__}'\"\u001b[0m\u001b[0;34m\u001b[0m\u001b[0;34m\u001b[0m\u001b[0m\n",
      "\u001b[0;31mTypeError\u001b[0m: Only valid with DatetimeIndex, TimedeltaIndex or PeriodIndex, but got an instance of 'Int64Index'"
     ]
    }
   ],
   "source": [
    "df_5.Date_Time.resample('D').mean().plot()"
   ]
  },
  {
   "cell_type": "code",
   "execution_count": 23,
   "metadata": {},
   "outputs": [
    {
     "name": "stdout",
     "output_type": "stream",
     "text": [
      "<class 'pandas.core.frame.DataFrame'>\n",
      "Int64Index: 1200543 entries, 4418276 to 5618818\n",
      "Data columns (total 13 columns):\n",
      " #   Column      Non-Null Count    Dtype         \n",
      "---  ------      --------------    -----         \n",
      " 0   Date_Time   1200543 non-null  datetime64[ns]\n",
      " 1   bid_open    1200543 non-null  float64       \n",
      " 2   bid_high    1200543 non-null  float64       \n",
      " 3   bid_low     1200543 non-null  float64       \n",
      " 4   bid_close   1200543 non-null  float64       \n",
      " 5   bid_change  1200543 non-null  float64       \n",
      " 6   ask_open    1200543 non-null  float64       \n",
      " 7   ask_high    1200543 non-null  float64       \n",
      " 8   ask_low     1200543 non-null  float64       \n",
      " 9   ask_close   1200543 non-null  float64       \n",
      " 10  ask_change  1200543 non-null  float64       \n",
      " 11  close       1200543 non-null  float64       \n",
      " 12  date        1200543 non-null  object        \n",
      "dtypes: datetime64[ns](1), float64(11), object(1)\n",
      "memory usage: 128.2+ MB\n"
     ]
    }
   ],
   "source": [
    "df.info()"
   ]
  },
  {
   "cell_type": "code",
   "execution_count": null,
   "metadata": {},
   "outputs": [],
   "source": []
  }
 ],
 "metadata": {
  "kernelspec": {
   "display_name": "Python 3",
   "language": "python",
   "name": "python3"
  },
  "language_info": {
   "codemirror_mode": {
    "name": "ipython",
    "version": 3
   },
   "file_extension": ".py",
   "mimetype": "text/x-python",
   "name": "python",
   "nbconvert_exporter": "python",
   "pygments_lexer": "ipython3",
   "version": "3.7.6"
  }
 },
 "nbformat": 4,
 "nbformat_minor": 4
}
